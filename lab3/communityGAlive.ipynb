{
 "nbformat": 4,
 "nbformat_minor": 2,
 "metadata": {
  "language_info": {
   "name": "python",
   "codemirror_mode": {
    "name": "ipython",
    "version": 3
   },
   "version": "3.9.2-final"
  },
  "orig_nbformat": 2,
  "file_extension": ".py",
  "mimetype": "text/x-python",
  "name": "python",
  "npconvert_exporter": "python",
  "pygments_lexer": "ipython3",
  "version": 3,
  "kernelspec": {
   "name": "python3",
   "display_name": "Python 3.9.2 64-bit",
   "metadata": {
    "interpreter": {
     "hash": "aee8b7b246df8f9039afb4144a1f6fd8d2ca17a180786b69acc140d282b71a49"
    }
   }
  }
 },
 "cells": [
  {
   "cell_type": "markdown",
   "metadata": {},
   "source": [
    "[![Open In Colab](https://colab.research.google.com/assets/colab-badge.svg)](\n",
    "    https://colab.research.google.com/github/lauradiosan/AI-2019-2020/blob/master/lab03/communityGAlive.ipynb){target=\"_blank\"}"
   ]
  },
  {
   "cell_type": "markdown",
   "metadata": {},
   "source": [
    "# Comunitati in retele complexe\n",
    "\n",
    "Pentru o retea data si o impartire a nodurilor pe comunitati, sa se determine calitatea acestor comunitati folosind metrica de modularitate (https://www.cs.cmu.edu/~ckingsf/bioinfo-lectures/modularity.pdf). \n",
    "\n"
   ]
  },
  {
   "cell_type": "code",
   "execution_count": 16,
   "metadata": {},
   "outputs": [],
   "source": [
    "# read the network details\n",
    "def readNet(fileName):\n",
    "    f = open(fileName, \"r\")\n",
    "    net = {}\n",
    "    n = int(f.readline())\n",
    "    net['noNodes'] = n\n",
    "    mat = []\n",
    "    for i in range(n):\n",
    "        mat.append([])\n",
    "        line = f.readline()\n",
    "        elems = line.split(\" \")\n",
    "        for j in range(n):\n",
    "            mat[-1].append(int(elems[j]))\n",
    "    net[\"mat\"] = mat \n",
    "    degrees = []\n",
    "    noEdges = 0\n",
    "    for i in range(n):\n",
    "        d = 0\n",
    "        for j in range(n):\n",
    "            if (mat[i][j] == 1):\n",
    "                d += 1\n",
    "            if (j > i):\n",
    "                noEdges += mat[i][j]\n",
    "        degrees.append(d)\n",
    "    net[\"noEdges\"] = noEdges\n",
    "    net[\"degrees\"] = degrees\n",
    "    f.close()\n",
    "    return net\n"
   ]
  },
  {
   "cell_type": "code",
   "execution_count": 17,
   "metadata": {},
   "outputs": [],
   "source": [
    "# load a tetwork\n",
    "import os \n",
    "\n",
    "crtDir =  os.getcwd()\n",
    "filePath = os.path.join(crtDir,  'data', 'date.txt')\n",
    "network = readNet(filePath)\n",
    "\n"
   ]
  },
  {
   "cell_type": "code",
   "execution_count": 18,
   "metadata": {},
   "outputs": [
    {
     "output_type": "display_data",
     "data": {
      "text/plain": "<Figure size 288x288 with 1 Axes>",
      "image/svg+xml": "<?xml version=\"1.0\" encoding=\"utf-8\" standalone=\"no\"?>\n<!DOCTYPE svg PUBLIC \"-//W3C//DTD SVG 1.1//EN\"\n  \"http://www.w3.org/Graphics/SVG/1.1/DTD/svg11.dtd\">\n<!-- Created with matplotlib (https://matplotlib.org/) -->\n<svg height=\"231.84pt\" version=\"1.1\" viewBox=\"0 0 237.6 231.84\" width=\"237.6pt\" xmlns=\"http://www.w3.org/2000/svg\" xmlns:xlink=\"http://www.w3.org/1999/xlink\">\n <metadata>\n  <rdf:RDF xmlns:cc=\"http://creativecommons.org/ns#\" xmlns:dc=\"http://purl.org/dc/elements/1.1/\" xmlns:rdf=\"http://www.w3.org/1999/02/22-rdf-syntax-ns#\">\n   <cc:Work>\n    <dc:type rdf:resource=\"http://purl.org/dc/dcmitype/StillImage\"/>\n    <dc:date>2021-03-14T15:02:24.281449</dc:date>\n    <dc:format>image/svg+xml</dc:format>\n    <dc:creator>\n     <cc:Agent>\n      <dc:title>Matplotlib v3.3.4, https://matplotlib.org/</dc:title>\n     </cc:Agent>\n    </dc:creator>\n   </cc:Work>\n  </rdf:RDF>\n </metadata>\n <defs>\n  <style type=\"text/css\">*{stroke-linecap:butt;stroke-linejoin:round;}</style>\n </defs>\n <g id=\"figure_1\">\n  <g id=\"patch_1\">\n   <path d=\"M 0 231.84 \nL 237.6 231.84 \nL 237.6 0 \nL 0 0 \nz\n\" style=\"fill:none;\"/>\n  </g>\n  <g id=\"axes_1\">\n   <g id=\"patch_2\">\n    <path d=\"M 7.2 224.64 \nL 230.4 224.64 \nL 230.4 7.2 \nL 7.2 7.2 \nz\n\" style=\"fill:#ffffff;\"/>\n   </g>\n   <g id=\"LineCollection_1\">\n    <path clip-path=\"url(#p1645d7e6fd)\" d=\"M 220.254545 171.9983 \nL 208.883552 214.756364 \n\" style=\"fill:none;stroke:#000000;stroke-opacity:0.3;\"/>\n    <path clip-path=\"url(#p1645d7e6fd)\" d=\"M 220.254545 171.9983 \nL 146.511393 150.418393 \n\" style=\"fill:none;stroke:#000000;stroke-opacity:0.3;\"/>\n    <path clip-path=\"url(#p1645d7e6fd)\" d=\"M 220.254545 171.9983 \nL 150.743974 209.282767 \n\" style=\"fill:none;stroke:#000000;stroke-opacity:0.3;\"/>\n    <path clip-path=\"url(#p1645d7e6fd)\" d=\"M 208.883552 214.756364 \nL 146.511393 150.418393 \n\" style=\"fill:none;stroke:#000000;stroke-opacity:0.3;\"/>\n    <path clip-path=\"url(#p1645d7e6fd)\" d=\"M 208.883552 214.756364 \nL 150.743974 209.282767 \n\" style=\"fill:none;stroke:#000000;stroke-opacity:0.3;\"/>\n    <path clip-path=\"url(#p1645d7e6fd)\" d=\"M 146.511393 150.418393 \nL 75.209363 76.827891 \n\" style=\"fill:none;stroke:#000000;stroke-opacity:0.3;\"/>\n    <path clip-path=\"url(#p1645d7e6fd)\" d=\"M 146.511393 150.418393 \nL 150.743974 209.282767 \n\" style=\"fill:none;stroke:#000000;stroke-opacity:0.3;\"/>\n    <path clip-path=\"url(#p1645d7e6fd)\" d=\"M 17.345455 17.083636 \nL 75.209363 76.827891 \n\" style=\"fill:none;stroke:#000000;stroke-opacity:0.3;\"/>\n   </g>\n   <g id=\"matplotlib.axis_1\">\n    <g id=\"xtick_1\"/>\n    <g id=\"xtick_2\"/>\n    <g id=\"xtick_3\"/>\n    <g id=\"xtick_4\"/>\n    <g id=\"xtick_5\"/>\n    <g id=\"xtick_6\"/>\n   </g>\n   <g id=\"matplotlib.axis_2\">\n    <g id=\"ytick_1\"/>\n    <g id=\"ytick_2\"/>\n    <g id=\"ytick_3\"/>\n    <g id=\"ytick_4\"/>\n    <g id=\"ytick_5\"/>\n    <g id=\"ytick_6\"/>\n    <g id=\"ytick_7\"/>\n    <g id=\"ytick_8\"/>\n    <g id=\"ytick_9\"/>\n   </g>\n   <g id=\"PathCollection_1\">\n    <defs>\n     <path d=\"M 0 12.247449 \nC 3.248061 12.247449 6.363528 10.95698 8.660254 8.660254 \nC 10.95698 6.363528 12.247449 3.248061 12.247449 0 \nC 12.247449 -3.248061 10.95698 -6.363528 8.660254 -8.660254 \nC 6.363528 -10.95698 3.248061 -12.247449 0 -12.247449 \nC -3.248061 -12.247449 -6.363528 -10.95698 -8.660254 -8.660254 \nC -10.95698 -6.363528 -12.247449 -3.248061 -12.247449 0 \nC -12.247449 3.248061 -10.95698 6.363528 -8.660254 8.660254 \nC -6.363528 10.95698 -3.248061 12.247449 0 12.247449 \nz\n\" id=\"mfb36160117\" style=\"stroke:#1f78b4;\"/>\n    </defs>\n    <g clip-path=\"url(#p1645d7e6fd)\">\n     <use style=\"fill:#1f78b4;stroke:#1f78b4;\" x=\"220.254545\" xlink:href=\"#mfb36160117\" y=\"171.9983\"/>\n     <use style=\"fill:#1f78b4;stroke:#1f78b4;\" x=\"208.883552\" xlink:href=\"#mfb36160117\" y=\"214.756364\"/>\n     <use style=\"fill:#1f78b4;stroke:#1f78b4;\" x=\"146.511393\" xlink:href=\"#mfb36160117\" y=\"150.418393\"/>\n     <use style=\"fill:#1f78b4;stroke:#1f78b4;\" x=\"17.345455\" xlink:href=\"#mfb36160117\" y=\"17.083636\"/>\n     <use style=\"fill:#1f78b4;stroke:#1f78b4;\" x=\"75.209363\" xlink:href=\"#mfb36160117\" y=\"76.827891\"/>\n     <use style=\"fill:#1f78b4;stroke:#1f78b4;\" x=\"150.743974\" xlink:href=\"#mfb36160117\" y=\"209.282767\"/>\n    </g>\n   </g>\n   <g id=\"patch_3\">\n    <path d=\"M 7.2 224.64 \nL 7.2 7.2 \n\" style=\"fill:none;stroke:#000000;stroke-linecap:square;stroke-linejoin:miter;stroke-width:0.8;\"/>\n   </g>\n   <g id=\"patch_4\">\n    <path d=\"M 230.4 224.64 \nL 230.4 7.2 \n\" style=\"fill:none;stroke:#000000;stroke-linecap:square;stroke-linejoin:miter;stroke-width:0.8;\"/>\n   </g>\n   <g id=\"patch_5\">\n    <path d=\"M 7.2 224.64 \nL 230.4 224.64 \n\" style=\"fill:none;stroke:#000000;stroke-linecap:square;stroke-linejoin:miter;stroke-width:0.8;\"/>\n   </g>\n   <g id=\"patch_6\">\n    <path d=\"M 7.2 7.2 \nL 230.4 7.2 \n\" style=\"fill:none;stroke:#000000;stroke-linecap:square;stroke-linejoin:miter;stroke-width:0.8;\"/>\n   </g>\n  </g>\n </g>\n <defs>\n  <clipPath id=\"p1645d7e6fd\">\n   <rect height=\"217.44\" width=\"223.2\" x=\"7.2\" y=\"7.2\"/>\n  </clipPath>\n </defs>\n</svg>\n",
      "image/png": "[encoded data removed]"
     },
     "metadata": {}
    }
   ],
   "source": [
    "# plot the network \n",
    "import numpy as np \n",
    "import networkx as nx\n",
    "import matplotlib.pyplot as plt \n",
    "import warnings \n",
    "\n",
    "warnings.simplefilter('ignore')\n",
    "\n",
    "A=np.matrix(network[\"mat\"])\n",
    "G=nx.from_numpy_matrix(A)\n",
    "pos = nx.spring_layout(G)  # compute graph layout\n",
    "plt.figure(figsize=(4, 4))  # image is 8 x 8 inches \n",
    "nx.draw_networkx_nodes(G, pos, node_size=600, cmap=plt.cm.RdYlBu)\n",
    "nx.draw_networkx_edges(G, pos, alpha=0.3)\n",
    "plt.show(G)\n"
   ]
  },
  {
   "cell_type": "code",
   "execution_count": 22,
   "metadata": {},
   "outputs": [
    {
     "output_type": "display_data",
     "data": {
      "text/plain": "<Figure size 288x288 with 1 Axes>",
      "image/svg+xml": "<?xml version=\"1.0\" encoding=\"utf-8\" standalone=\"no\"?>\n<!DOCTYPE svg PUBLIC \"-//W3C//DTD SVG 1.1//EN\"\n  \"http://www.w3.org/Graphics/SVG/1.1/DTD/svg11.dtd\">\n<!-- Created with matplotlib (https://matplotlib.org/) -->\n<svg height=\"231.84pt\" version=\"1.1\" viewBox=\"0 0 237.6 231.84\" width=\"237.6pt\" xmlns=\"http://www.w3.org/2000/svg\" xmlns:xlink=\"http://www.w3.org/1999/xlink\">\n <metadata>\n  <rdf:RDF xmlns:cc=\"http://creativecommons.org/ns#\" xmlns:dc=\"http://purl.org/dc/elements/1.1/\" xmlns:rdf=\"http://www.w3.org/1999/02/22-rdf-syntax-ns#\">\n   <cc:Work>\n    <dc:type rdf:resource=\"http://purl.org/dc/dcmitype/StillImage\"/>\n    <dc:date>2021-03-14T15:08:21.226999</dc:date>\n    <dc:format>image/svg+xml</dc:format>\n    <dc:creator>\n     <cc:Agent>\n      <dc:title>Matplotlib v3.3.4, https://matplotlib.org/</dc:title>\n     </cc:Agent>\n    </dc:creator>\n   </cc:Work>\n  </rdf:RDF>\n </metadata>\n <defs>\n  <style type=\"text/css\">*{stroke-linecap:butt;stroke-linejoin:round;}</style>\n </defs>\n <g id=\"figure_1\">\n  <g id=\"patch_1\">\n   <path d=\"M 0 231.84 \nL 237.6 231.84 \nL 237.6 0 \nL 0 0 \nz\n\" style=\"fill:none;\"/>\n  </g>\n  <g id=\"axes_1\">\n   <g id=\"patch_2\">\n    <path d=\"M 7.2 224.64 \nL 230.4 224.64 \nL 230.4 7.2 \nL 7.2 7.2 \nz\n\" style=\"fill:#ffffff;\"/>\n   </g>\n   <g id=\"LineCollection_1\">\n    <path clip-path=\"url(#pdfb0426ba1)\" d=\"M 42.384407 17.083636 \nL 17.345455 115.828665 \n\" style=\"fill:none;stroke:#000000;stroke-opacity:0.3;\"/>\n    <path clip-path=\"url(#pdfb0426ba1)\" d=\"M 42.384407 17.083636 \nL 83.799985 116.760959 \n\" style=\"fill:none;stroke:#000000;stroke-opacity:0.3;\"/>\n    <path clip-path=\"url(#pdfb0426ba1)\" d=\"M 42.384407 17.083636 \nL 42.252619 214.756364 \n\" style=\"fill:none;stroke:#000000;stroke-opacity:0.3;\"/>\n    <path clip-path=\"url(#pdfb0426ba1)\" d=\"M 17.345455 115.828665 \nL 83.799985 116.760959 \n\" style=\"fill:none;stroke:#000000;stroke-opacity:0.3;\"/>\n    <path clip-path=\"url(#pdfb0426ba1)\" d=\"M 17.345455 115.828665 \nL 42.252619 214.756364 \n\" style=\"fill:none;stroke:#000000;stroke-opacity:0.3;\"/>\n    <path clip-path=\"url(#pdfb0426ba1)\" d=\"M 83.799985 116.760959 \nL 159.009396 118.902608 \n\" style=\"fill:none;stroke:#000000;stroke-opacity:0.3;\"/>\n    <path clip-path=\"url(#pdfb0426ba1)\" d=\"M 83.799985 116.760959 \nL 42.252619 214.756364 \n\" style=\"fill:none;stroke:#000000;stroke-opacity:0.3;\"/>\n    <path clip-path=\"url(#pdfb0426ba1)\" d=\"M 220.254545 121.422889 \nL 159.009396 118.902608 \n\" style=\"fill:none;stroke:#000000;stroke-opacity:0.3;\"/>\n   </g>\n   <g id=\"matplotlib.axis_1\">\n    <g id=\"xtick_1\"/>\n    <g id=\"xtick_2\"/>\n    <g id=\"xtick_3\"/>\n    <g id=\"xtick_4\"/>\n   </g>\n   <g id=\"matplotlib.axis_2\">\n    <g id=\"ytick_1\"/>\n    <g id=\"ytick_2\"/>\n    <g id=\"ytick_3\"/>\n    <g id=\"ytick_4\"/>\n    <g id=\"ytick_5\"/>\n   </g>\n   <g id=\"PathCollection_1\">\n    <defs>\n     <path d=\"M 0 12.247449 \nC 3.248061 12.247449 6.363528 10.95698 8.660254 8.660254 \nC 10.95698 6.363528 12.247449 3.248061 12.247449 -0 \nC 12.247449 -3.248061 10.95698 -6.363528 8.660254 -8.660254 \nC 6.363528 -10.95698 3.248061 -12.247449 0 -12.247449 \nC -3.248061 -12.247449 -6.363528 -10.95698 -8.660254 -8.660254 \nC -10.95698 -6.363528 -12.247449 -3.248061 -12.247449 0 \nC -12.247449 3.248061 -10.95698 6.363528 -8.660254 8.660254 \nC -6.363528 10.95698 -3.248061 12.247449 0 12.247449 \nz\n\" id=\"C0_0_bd4aea7912\"/>\n    </defs>\n    <g clip-path=\"url(#pdfb0426ba1)\">\n     <use style=\"fill:#a50026;stroke:#a50026;\" x=\"42.384407\" xlink:href=\"#C0_0_bd4aea7912\" y=\"17.083636\"/>\n    </g>\n    <g clip-path=\"url(#pdfb0426ba1)\">\n     <use style=\"fill:#313695;stroke:#313695;\" x=\"17.345455\" xlink:href=\"#C0_0_bd4aea7912\" y=\"115.828665\"/>\n    </g>\n    <g clip-path=\"url(#pdfb0426ba1)\">\n     <use style=\"fill:#a50026;stroke:#a50026;\" x=\"83.799985\" xlink:href=\"#C0_0_bd4aea7912\" y=\"116.760959\"/>\n    </g>\n    <g clip-path=\"url(#pdfb0426ba1)\">\n     <use style=\"fill:#313695;stroke:#313695;\" x=\"220.254545\" xlink:href=\"#C0_0_bd4aea7912\" y=\"121.422889\"/>\n    </g>\n    <g clip-path=\"url(#pdfb0426ba1)\">\n     <use style=\"fill:#a50026;stroke:#a50026;\" x=\"159.009396\" xlink:href=\"#C0_0_bd4aea7912\" y=\"118.902608\"/>\n    </g>\n    <g clip-path=\"url(#pdfb0426ba1)\">\n     <use style=\"fill:#a50026;stroke:#a50026;\" x=\"42.252619\" xlink:href=\"#C0_0_bd4aea7912\" y=\"214.756364\"/>\n    </g>\n   </g>\n   <g id=\"patch_3\">\n    <path d=\"M 7.2 224.64 \nL 7.2 7.2 \n\" style=\"fill:none;stroke:#000000;stroke-linecap:square;stroke-linejoin:miter;stroke-width:0.8;\"/>\n   </g>\n   <g id=\"patch_4\">\n    <path d=\"M 230.4 224.64 \nL 230.4 7.2 \n\" style=\"fill:none;stroke:#000000;stroke-linecap:square;stroke-linejoin:miter;stroke-width:0.8;\"/>\n   </g>\n   <g id=\"patch_5\">\n    <path d=\"M 7.2 224.64 \nL 230.4 224.64 \n\" style=\"fill:none;stroke:#000000;stroke-linecap:square;stroke-linejoin:miter;stroke-width:0.8;\"/>\n   </g>\n   <g id=\"patch_6\">\n    <path d=\"M 7.2 7.2 \nL 230.4 7.2 \n\" style=\"fill:none;stroke:#000000;stroke-linecap:square;stroke-linejoin:miter;stroke-width:0.8;\"/>\n   </g>\n  </g>\n </g>\n <defs>\n  <clipPath id=\"pdfb0426ba1\">\n   <rect height=\"217.44\" width=\"223.2\" x=\"7.2\" y=\"7.2\"/>\n  </clipPath>\n </defs>\n</svg>\n",
      "image/png": "[encoded data removed]"
     },
     "metadata": {}
    }
   ],
   "source": [
    "# plot a particular division in communities\n",
    "communities = [1,2,1,2,1, 1]\n",
    "\n",
    "A=np.matrix(network[\"mat\"])\n",
    "G=nx.from_numpy_matrix(A)\n",
    "pos = nx.spring_layout(G)  # compute graph layout\n",
    "plt.figure(figsize=(4, 4))  # image is 8 x 8 inches \n",
    "nx.draw_networkx_nodes(G, pos, node_size = 600, cmap = plt.cm.RdYlBu, node_color = communities)\n",
    "nx.draw_networkx_edges(G, pos, alpha = 0.3)\n",
    "plt.show(G)\n"
   ]
  },
  {
   "cell_type": "code",
   "execution_count": 20,
   "metadata": {},
   "outputs": [
    {
     "output_type": "stream",
     "name": "stdout",
     "text": [
      "-0.125\n"
     ]
    }
   ],
   "source": [
    "# evaluate the quality of previous communities inside a network\n",
    "# https://www.cs.cmu.edu/~ckingsf/bioinfo-lectures/modularity.pdf\n",
    "\n",
    "def modularity(communities, param):\n",
    "    noNodes = param['noNodes']\n",
    "    mat = param['mat']\n",
    "    degrees = param['degrees']\n",
    "    noEdges = param['noEdges']  \n",
    "    M = 2 * noEdges\n",
    "    Q = 0.0\n",
    "    for i in range(0, noNodes):\n",
    "        for j in range(0, noNodes):\n",
    "            if (communities[i] == communities[j]):\n",
    "               Q += (mat[i][j] - degrees[i] * degrees[j] / M)\n",
    "    return Q * 1 / M\n",
    "\n",
    "print(modularity([1,2,1,2,1,1], network))"
   ]
  },
  {
   "cell_type": "markdown",
   "metadata": {},
   "source": [
    "# Homework\n",
    "\n",
    "Add GA code for identifing the communities by using modularity as fitness function\n"
   ]
  }
 ]
}